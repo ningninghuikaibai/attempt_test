{
 "cells": [
  {
   "cell_type": "code",
   "execution_count": 1,
   "metadata": {},
   "outputs": [
    {
     "name": "stdout",
     "output_type": "stream",
     "text": [
      "['王' '刘' '李']\n",
      "['张', '钱', '陈', '李', '王', '刘', '赵']\n",
      "[[3.88605548 2.82409505 2.40367303 2.93641246]\n",
      " [2.31961297 2.2158543  2.87456493 3.30193984]\n",
      " [2.00748652 3.72020117 3.88446532 2.57354313]]\n"
     ]
    }
   ],
   "source": [
    "import numpy as np\n",
    "a1=['张','李','陈','刘','赵','王','钱']\n",
    "a=np.random.choice(a1,size=3,replace=False)\n",
    "np.disp(a)\n",
    "np.random.shuffle(a1)\n",
    "print(a1)\n",
    "b=np.random.uniform(low=2,high=4,size=(3,4))\n",
    "np.disp(b)"
   ]
  },
  {
   "cell_type": "code",
   "execution_count": 3,
   "metadata": {},
   "outputs": [
    {
     "name": "stdout",
     "output_type": "stream",
     "text": [
      "[ 1  2  3  4  5  6  7  8  9 10 11 12] 1\n",
      "[[ 1  2  3  4]\n",
      " [ 5  6  7  8]\n",
      " [ 9 10 11 12]] 2\n",
      "[[1 0 0 0]\n",
      " [0 1 0 0]\n",
      " [0 0 1 0]]\n",
      "[[ 1  2  3  4]\n",
      " [ 5  6  7  8]\n",
      " [ 9 10 11 12]\n",
      " [ 1  0  0  0]\n",
      " [ 0  1  0  0]\n",
      " [ 0  0  1  0]]\n",
      "[[ 1  2  3  4  1  0  0  0]\n",
      " [ 5  6  7  8  0  1  0  0]\n",
      " [ 9 10 11 12  0  0  1  0]]\n"
     ]
    }
   ],
   "source": [
    "import numpy as np\n",
    "a1=np.arange(1,13)\n",
    "print(a1,a1.ndim)\n",
    "a2=a1.reshape(3,4)\n",
    "print(a2,a2.ndim)\n",
    "b2=np.eye(3,4).astype(np.int)\n",
    "print(b2)\n",
    "c1=np.concatenate((a2,b2))\n",
    "print(c1)\n",
    "c2=np.hstack((a2,b2))\n",
    "print(c2)"
   ]
  },
  {
   "cell_type": "code",
   "execution_count": 4,
   "metadata": {},
   "outputs": [
    {
     "name": "stdout",
     "output_type": "stream",
     "text": [
      "[array([[1, 2, 3, 4, 1, 0, 0, 0]]), array([[5, 6, 7, 8, 0, 1, 0, 0]]), array([[ 9, 10, 11, 12,  0,  0,  1,  0]])]\n",
      "[[1 0 0]\n",
      " [0 1 0]\n",
      " [0 0 1]\n",
      " [0 0 0]]\n",
      "[[ 1  5  9]\n",
      " [ 2  6 10]\n",
      " [ 3  7 11]\n",
      " [ 4  8 12]]\n",
      "[[ 1  5  9]\n",
      " [ 2  6 10]\n",
      " [ 3  7 11]\n",
      " [ 4  8 12]]\n"
     ]
    }
   ],
   "source": [
    "d=np.split(c2,indices_or_sections=3)\n",
    "print(d)\n",
    "b3=b2.transpose((1,0))\n",
    "print(b3)\n",
    "a22=a2.T\n",
    "print(a22)\n",
    "a23=a2.swapaxes(0,1)\n",
    "print(a23)"
   ]
  },
  {
   "cell_type": "code",
   "execution_count": null,
   "metadata": {},
   "outputs": [],
   "source": []
  }
 ],
 "metadata": {
  "kernelspec": {
   "display_name": "Python 3",
   "language": "python",
   "name": "python3"
  },
  "language_info": {
   "codemirror_mode": {
    "name": "ipython",
    "version": 3
   },
   "file_extension": ".py",
   "mimetype": "text/x-python",
   "name": "python",
   "nbconvert_exporter": "python",
   "pygments_lexer": "ipython3",
   "version": "3.7.4"
  }
 },
 "nbformat": 4,
 "nbformat_minor": 2
}
