{
 "cells": [
  {
   "cell_type": "code",
   "execution_count": 1,
   "metadata": {},
   "outputs": [
    {
     "name": "stdout",
     "output_type": "stream",
     "text": [
      "[[84 96 92 54]\n",
      " [58 66 39 52]\n",
      " [53 48 75 67]\n",
      " [63 56 61 54]\n",
      " [90 63 83 98]\n",
      " [37 97 55 69]\n",
      " [79 78 83 92]\n",
      " [46 43 42 39]\n",
      " [38 55 35 68]\n",
      " [39 86 53 92]\n",
      " [71 89 41 63]\n",
      " [85 60 54 64]\n",
      " [64 68 61 35]\n",
      " [63 93 38 32]\n",
      " [63 96 80 56]\n",
      " [55 86 39 63]\n",
      " [56 85 76 44]\n",
      " [58 73 84 59]\n",
      " [48 74 40 79]\n",
      " [40 56 41 79]\n",
      " [30 53 55 48]\n",
      " [80 72 47 33]\n",
      " [84 87 67 35]\n",
      " [88 54 48 60]\n",
      " [92 51 57 37]\n",
      " [41 75 39 77]\n",
      " [87 44 30 54]\n",
      " [95 72 51 32]\n",
      " [94 73 78 48]\n",
      " [78 64 50 90]\n",
      " [79 57 85 76]\n",
      " [72 41 37 32]\n",
      " [40 46 63 41]\n",
      " [62 86 73 84]\n",
      " [88 88 93 58]\n",
      " [99 93 50 40]\n",
      " [94 33 48 44]\n",
      " [98 81 37 49]\n",
      " [91 49 90 59]\n",
      " [46 42 99 81]\n",
      " [97 87 30 56]\n",
      " [76 87 58 47]\n",
      " [34 84 99 85]\n",
      " [47 73 68 80]\n",
      " [97 32 47 47]\n",
      " [93 67 86 39]\n",
      " [97 33 90 52]\n",
      " [96 77 75 40]\n",
      " [91 51 67 40]\n",
      " [97 50 79 88]\n",
      " [47 58 93 65]\n",
      " [86 86 44 48]\n",
      " [92 76 30 87]\n",
      " [79 66 49 61]]\n"
     ]
    }
   ],
   "source": [
    "import numpy as np\n",
    "class1=np.random.randint(30,100,size=(54,4))\n",
    "print(class1)"
   ]
  },
  {
   "cell_type": "code",
   "execution_count": 2,
   "metadata": {},
   "outputs": [
    {
     "name": "stdout",
     "output_type": "stream",
     "text": [
      "第2门课的平均分;  67.7\n"
     ]
    }
   ],
   "source": [
    "pj=class1.mean(axis=0)[1]\n",
    "print(\"第2门课的平均分; \",round(pj,2))"
   ]
  },
  {
   "cell_type": "code",
   "execution_count": 3,
   "metadata": {},
   "outputs": [
    {
     "name": "stdout",
     "output_type": "stream",
     "text": [
      "第3个同学的总分：  243\n"
     ]
    }
   ],
   "source": [
    "zf=class1.sum(axis=1)[2]\n",
    "print(\"第3个同学的总分： \",zf)"
   ]
  },
  {
   "cell_type": "code",
   "execution_count": null,
   "metadata": {},
   "outputs": [],
   "source": []
  }
 ],
 "metadata": {
  "kernelspec": {
   "display_name": "Python 3",
   "language": "python",
   "name": "python3"
  },
  "language_info": {
   "codemirror_mode": {
    "name": "ipython",
    "version": 3
   },
   "file_extension": ".py",
   "mimetype": "text/x-python",
   "name": "python",
   "nbconvert_exporter": "python",
   "pygments_lexer": "ipython3",
   "version": "3.7.4"
  }
 },
 "nbformat": 4,
 "nbformat_minor": 2
}
