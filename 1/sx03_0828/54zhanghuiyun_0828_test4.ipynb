{
 "cells": [
  {
   "cell_type": "code",
   "execution_count": 2,
   "metadata": {},
   "outputs": [],
   "source": [
    "import numpy as np"
   ]
  },
  {
   "cell_type": "code",
   "execution_count": 3,
   "metadata": {},
   "outputs": [
    {
     "name": "stdout",
     "output_type": "stream",
     "text": [
      "[0 0 1 1 0 1 0 0 1 1 0 0 0 1 1 1 0 1 0 0 1 0 1 0 1 1 1 0 1 0 1 0 0 1 0 0 1\n",
      " 0 1 1 1 1 1 1 1 0 1 0 0 0 1 0 1 0 0 0 1 0 0 0 1 1 1 0 0 1 0 0 1 1 0 0 0 1\n",
      " 0 0 0 1 0 1 1 0 1 1 0 0 0 1 0 0 0 0 1 1 1 0 0 0 0 1 1 0 0 1 0 1 0 0 0 1 0\n",
      " 0 1 0 1 1 1 1 0 0 1 0 0 0 0 1 0 1 0 1 0 0 1 0 1 0 1 1 1 0 1 1 1 0 1 1 0 1\n",
      " 0 1 1 0 1 0 0 0 1 0 0 1 1 0 1 1 1 1 0 1 0 1 1 1 0 1 1 0 1 0 0 0 1 1 1 0 1\n",
      " 0 0 0 0 1 0 1 1 0 0 0 1 1 0 1]\n"
     ]
    }
   ],
   "source": [
    "steps=200\n",
    "data=np.random.randint(0,2,size=steps)\n",
    "print(data)"
   ]
  },
  {
   "cell_type": "code",
   "execution_count": 4,
   "metadata": {},
   "outputs": [
    {
     "name": "stdout",
     "output_type": "stream",
     "text": [
      "[-1 -1  1  1 -1  1 -1 -1  1  1 -1 -1 -1  1  1  1 -1  1 -1 -1  1 -1  1 -1\n",
      "  1  1  1 -1  1 -1  1 -1 -1  1 -1 -1  1 -1  1  1  1  1  1  1  1 -1  1 -1\n",
      " -1 -1  1 -1  1 -1 -1 -1  1 -1 -1 -1  1  1  1 -1 -1  1 -1 -1  1  1 -1 -1\n",
      " -1  1 -1 -1 -1  1 -1  1  1 -1  1  1 -1 -1 -1  1 -1 -1 -1 -1  1  1  1 -1\n",
      " -1 -1 -1  1  1 -1 -1  1 -1  1 -1 -1 -1  1 -1 -1  1 -1  1  1  1  1 -1 -1\n",
      "  1 -1 -1 -1 -1  1 -1  1 -1  1 -1 -1  1 -1  1 -1  1  1  1 -1  1  1  1 -1\n",
      "  1  1 -1  1 -1  1  1 -1  1 -1 -1 -1  1 -1 -1  1  1 -1  1  1  1  1 -1  1\n",
      " -1  1  1  1 -1  1  1 -1  1 -1 -1 -1  1  1  1 -1  1 -1 -1 -1 -1  1 -1  1\n",
      "  1 -1 -1 -1  1  1 -1  1]\n",
      "[ -1  -2  -1   0  -1   0  -1  -2  -1   0  -1  -2  -3  -2  -1   0  -1   0\n",
      "  -1  -2  -1  -2  -1  -2  -1   0   1   0   1   0   1   0  -1   0  -1  -2\n",
      "  -1  -2  -1   0   1   2   3   4   5   4   5   4   3   2   3   2   3   2\n",
      "   1   0   1   0  -1  -2  -1   0   1   0  -1   0  -1  -2  -1   0  -1  -2\n",
      "  -3  -2  -3  -4  -5  -4  -5  -4  -3  -4  -3  -2  -3  -4  -5  -4  -5  -6\n",
      "  -7  -8  -7  -6  -5  -6  -7  -8  -9  -8  -7  -8  -9  -8  -9  -8  -9 -10\n",
      " -11 -10 -11 -12 -11 -12 -11 -10  -9  -8  -9 -10  -9 -10 -11 -12 -13 -12\n",
      " -13 -12 -13 -12 -13 -14 -13 -14 -13 -14 -13 -12 -11 -12 -11 -10  -9 -10\n",
      "  -9  -8  -9  -8  -9  -8  -7  -8  -7  -8  -9 -10  -9 -10 -11 -10  -9 -10\n",
      "  -9  -8  -7  -6  -7  -6  -7  -6  -5  -4  -5  -4  -3  -4  -3  -4  -5  -6\n",
      "  -5  -4  -3  -4  -3  -4  -5  -6  -7  -6  -7  -6  -5  -6  -7  -8  -7  -6\n",
      "  -7  -6]\n",
      "酒鬼向前走的最远距离=  5\n",
      "酒鬼向后走的最远距离=  -14\n"
     ]
    }
   ],
   "source": [
    "direction_steps=np.where(data>0,1,-1)\n",
    "print(direction_steps)\n",
    "dis=direction_steps.cumsum()\n",
    "print(dis)\n",
    "print('酒鬼向前走的最远距离= ',dis.max())\n",
    "print('酒鬼向后走的最远距离= ',dis.min())"
   ]
  },
  {
   "cell_type": "code",
   "execution_count": null,
   "metadata": {},
   "outputs": [],
   "source": []
  }
 ],
 "metadata": {
  "kernelspec": {
   "display_name": "Python 3",
   "language": "python",
   "name": "python3"
  },
  "language_info": {
   "codemirror_mode": {
    "name": "ipython",
    "version": 3
   },
   "file_extension": ".py",
   "mimetype": "text/x-python",
   "name": "python",
   "nbconvert_exporter": "python",
   "pygments_lexer": "ipython3",
   "version": "3.7.4"
  }
 },
 "nbformat": 4,
 "nbformat_minor": 2
}
