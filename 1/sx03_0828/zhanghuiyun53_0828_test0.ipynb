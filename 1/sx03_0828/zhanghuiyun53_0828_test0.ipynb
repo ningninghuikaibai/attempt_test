{
 "cells": [
  {
   "cell_type": "code",
   "execution_count": 1,
   "metadata": {},
   "outputs": [],
   "source": [
    "import numpy as np"
   ]
  },
  {
   "cell_type": "code",
   "execution_count": 2,
   "metadata": {},
   "outputs": [
    {
     "name": "stdout",
     "output_type": "stream",
     "text": [
      "arr1:\n",
      " [[-0.42352443  1.56693682  1.68810793 -0.50530955]\n",
      " [ 1.70922465 -0.11319597 -0.85202013 -0.14960096]\n",
      " [-0.60683474 -0.90100207 -1.27956556  0.00645359]]\n",
      "arr2: [[ 1  2  3  4]\n",
      " [ 5  6  7  8]\n",
      " [ 9 10 11 12]]\n"
     ]
    }
   ],
   "source": [
    "arr1=np.random.randn(3,4)\n",
    "print('arr1:\\n',arr1)\n",
    "arr2=np.array([[1,2,3,4],[5,6,7,8],[9,10,11,12]])\n",
    "print('arr2:',arr2)"
   ]
  },
  {
   "cell_type": "code",
   "execution_count": 3,
   "metadata": {},
   "outputs": [
    {
     "name": "stdout",
     "output_type": "stream",
     "text": [
      "arr1+arr1:\n",
      " [[ 0.57647557  3.56693682  4.68810793  3.49469045]\n",
      " [ 6.70922465  5.88680403  6.14797987  7.85039904]\n",
      " [ 8.39316526  9.09899793  9.72043444 12.00645359]]\n",
      "arr1-arr1:\n",
      " [[ -1.42352443  -0.43306318  -1.31189207  -4.50530955]\n",
      " [ -3.29077535  -6.11319597  -7.85202013  -8.14960096]\n",
      " [ -9.60683474 -10.90100207 -12.27956556 -11.99354641]]\n",
      "arr2*10:\n",
      " [[ 10  20  30  40]\n",
      " [ 50  60  70  80]\n",
      " [ 90 100 110 120]]\n",
      "arr2*arr2:\n",
      " [[  1   4   9  16]\n",
      " [ 25  36  49  64]\n",
      " [ 81 100 121 144]]\n",
      "arr2/2:\n",
      " [[0.5 1.  1.5 2. ]\n",
      " [2.5 3.  3.5 4. ]\n",
      " [4.5 5.  5.5 6. ]]\n",
      "arr2**2:\n",
      " [[  1   4   9  16]\n",
      " [ 25  36  49  64]\n",
      " [ 81 100 121 144]]\n"
     ]
    }
   ],
   "source": [
    "print('arr1+arr1:\\n',arr1+arr2)\n",
    "print('arr1-arr1:\\n',arr1-arr2)\n",
    "print('arr2*10:\\n',arr2*10)\n",
    "print('arr2*arr2:\\n',arr2*arr2)\n",
    "print('arr2/2:\\n',arr2/2)\n",
    "print('arr2**2:\\n',arr2**2)"
   ]
  },
  {
   "cell_type": "code",
   "execution_count": 4,
   "metadata": {},
   "outputs": [
    {
     "name": "stdout",
     "output_type": "stream",
     "text": [
      "7\n"
     ]
    }
   ],
   "source": [
    "temp1=arr2[1][2]\n",
    "print(temp1)"
   ]
  },
  {
   "cell_type": "code",
   "execution_count": 5,
   "metadata": {},
   "outputs": [
    {
     "name": "stdout",
     "output_type": "stream",
     "text": [
      "1\n"
     ]
    }
   ],
   "source": [
    "arr2[1][2]=1\n",
    "print(arr2[1][2])"
   ]
  },
  {
   "cell_type": "code",
   "execution_count": 6,
   "metadata": {},
   "outputs": [
    {
     "name": "stdout",
     "output_type": "stream",
     "text": [
      "7\n"
     ]
    }
   ],
   "source": [
    "temp2=arr2[1:3]\n",
    "print(temp1)"
   ]
  },
  {
   "cell_type": "code",
   "execution_count": 7,
   "metadata": {},
   "outputs": [
    {
     "name": "stdout",
     "output_type": "stream",
     "text": [
      "[5 6 1 8]\n"
     ]
    }
   ],
   "source": [
    "print(arr2[1])"
   ]
  },
  {
   "cell_type": "code",
   "execution_count": 8,
   "metadata": {},
   "outputs": [
    {
     "name": "stdout",
     "output_type": "stream",
     "text": [
      "[[0. 0. 0. 0. 0. 0. 0. 0. 0. 0.]\n",
      " [0. 0. 0. 0. 0. 0. 0. 0. 0. 0.]\n",
      " [0. 0. 0. 0. 0. 0. 0. 0. 0. 0.]\n",
      " [0. 0. 0. 0. 0. 0. 0. 0. 0. 0.]\n",
      " [0. 0. 0. 0. 0. 0. 0. 0. 0. 0.]\n",
      " [0. 0. 0. 0. 0. 0. 0. 0. 0. 0.]\n",
      " [0. 0. 0. 0. 0. 0. 0. 0. 0. 0.]\n",
      " [0. 0. 0. 0. 0. 0. 0. 0. 0. 0.]\n",
      " [0. 0. 0. 0. 0. 0. 0. 0. 0. 0.]\n",
      " [0. 0. 0. 0. 0. 0. 0. 0. 0. 0.]]\n"
     ]
    }
   ],
   "source": [
    "a2=np.zeros((10,10))\n",
    "np.disp(a2)"
   ]
  },
  {
   "cell_type": "code",
   "execution_count": 9,
   "metadata": {},
   "outputs": [
    {
     "name": "stdout",
     "output_type": "stream",
     "text": [
      "[[1. 0. 0. 0. 0. 0. 0. 0.]\n",
      " [0. 1. 0. 0. 0. 0. 0. 0.]\n",
      " [0. 0. 1. 0. 0. 0. 0. 0.]\n",
      " [0. 0. 0. 1. 0. 0. 0. 0.]\n",
      " [0. 0. 0. 0. 1. 0. 0. 0.]\n",
      " [0. 0. 0. 0. 0. 1. 0. 0.]\n",
      " [0. 0. 0. 0. 0. 0. 1. 0.]\n",
      " [0. 0. 0. 0. 0. 0. 0. 1.]]\n"
     ]
    }
   ],
   "source": [
    "a3=np.eye(8)\n",
    "print(a3)"
   ]
  },
  {
   "cell_type": "code",
   "execution_count": 10,
   "metadata": {},
   "outputs": [
    {
     "name": "stdout",
     "output_type": "stream",
     "text": [
      "[[1 1 1 1 1 1 1 1]\n",
      " [1 1 1 1 1 1 1 1]\n",
      " [1 1 1 1 1 1 1 1]\n",
      " [1 1 1 1 1 1 1 1]\n",
      " [1 1 1 1 1 1 1 1]\n",
      " [1 1 1 1 1 1 1 1]\n",
      " [1 1 1 1 1 1 1 1]]\n"
     ]
    }
   ],
   "source": [
    "a5=np.ones((7,8),dtype=np.int8)\n",
    "print(a5)"
   ]
  },
  {
   "cell_type": "code",
   "execution_count": 11,
   "metadata": {},
   "outputs": [
    {
     "name": "stdout",
     "output_type": "stream",
     "text": [
      "[[100 100 100 ... 100 100 100]\n",
      " [100 100 100 ... 100 100 100]\n",
      " [100 100 100 ... 100 100 100]\n",
      " ...\n",
      " [100 100 100 ... 100 100 100]\n",
      " [100 100 100 ... 100 100 100]\n",
      " [100 100 100 ... 100 100 100]]\n"
     ]
    }
   ],
   "source": [
    "a6=np.full((50,50),100)\n",
    "np.disp(a6)"
   ]
  },
  {
   "cell_type": "code",
   "execution_count": 12,
   "metadata": {},
   "outputs": [
    {
     "data": {
      "text/plain": [
       "array([[0, 1, 2, 3, 4, 5, 6, 7, 8, 9],\n",
       "       [0, 1, 2, 3, 4, 5, 6, 7, 8, 9],\n",
       "       [0, 1, 2, 3, 4, 5, 6, 7, 8, 9],\n",
       "       [0, 1, 2, 3, 4, 5, 6, 7, 8, 9],\n",
       "       [0, 1, 2, 3, 4, 5, 6, 7, 8, 9],\n",
       "       [0, 1, 2, 3, 4, 5, 6, 7, 8, 9],\n",
       "       [0, 1, 2, 3, 4, 5, 6, 7, 8, 9],\n",
       "       [0, 1, 2, 3, 4, 5, 6, 7, 8, 9],\n",
       "       [0, 1, 2, 3, 4, 5, 6, 7, 8, 9],\n",
       "       [0, 1, 2, 3, 4, 5, 6, 7, 8, 9]])"
      ]
     },
     "execution_count": 12,
     "metadata": {},
     "output_type": "execute_result"
    }
   ],
   "source": [
    "ls=[np.arange(0,10)]\n",
    "a=np.array(ls*10)\n",
    "a.reshape(10,10)"
   ]
  },
  {
   "cell_type": "code",
   "execution_count": 13,
   "metadata": {},
   "outputs": [
    {
     "name": "stdout",
     "output_type": "stream",
     "text": [
      "[[1 1 1 1 1 1 1 1 1 1]\n",
      " [1 1 2 3 4 5 6 7 8 1]\n",
      " [1 1 2 3 4 5 6 7 8 1]\n",
      " [1 1 2 3 4 5 6 7 8 1]\n",
      " [1 1 2 3 4 5 6 7 8 1]\n",
      " [1 1 2 3 4 5 6 7 8 1]\n",
      " [1 1 2 3 4 5 6 7 8 1]\n",
      " [1 1 2 3 4 5 6 7 8 1]\n",
      " [1 1 2 3 4 5 6 7 8 1]\n",
      " [1 1 1 1 1 1 1 1 1 1]]\n"
     ]
    }
   ],
   "source": [
    "a[[0,9]]=1\n",
    "a[:,[0,9]]=1\n",
    "print(a)"
   ]
  },
  {
   "cell_type": "code",
   "execution_count": 14,
   "metadata": {},
   "outputs": [
    {
     "name": "stdout",
     "output_type": "stream",
     "text": [
      "[[1 1 2 3 4 5 6 7 8 1]\n",
      " [1 1 2 3 4 5 6 7 8 1]]\n"
     ]
    }
   ],
   "source": [
    "np.disp(a[1:3])"
   ]
  },
  {
   "cell_type": "code",
   "execution_count": 15,
   "metadata": {},
   "outputs": [
    {
     "name": "stdout",
     "output_type": "stream",
     "text": [
      "[[1 1 1]\n",
      " [3 4 5]\n",
      " [3 4 5]\n",
      " [3 4 5]\n",
      " [3 4 5]\n",
      " [3 4 5]\n",
      " [3 4 5]\n",
      " [3 4 5]\n",
      " [3 4 5]\n",
      " [1 1 1]]\n"
     ]
    }
   ],
   "source": [
    "np.disp(a[:,3:6])"
   ]
  },
  {
   "cell_type": "code",
   "execution_count": 16,
   "metadata": {},
   "outputs": [
    {
     "name": "stdout",
     "output_type": "stream",
     "text": [
      "[1 1 2 3 4 5 6 7 8 1]\n",
      "[[1 1 2 3 4 5 6 7 8 1]]\n"
     ]
    }
   ],
   "source": [
    "np.disp(a[8])\n",
    "np.disp(a[np.ix_([8])])"
   ]
  },
  {
   "cell_type": "code",
   "execution_count": 17,
   "metadata": {},
   "outputs": [
    {
     "name": "stdout",
     "output_type": "stream",
     "text": [
      "[[1]\n",
      " [8]\n",
      " [8]\n",
      " [8]\n",
      " [8]\n",
      " [8]\n",
      " [8]\n",
      " [8]\n",
      " [8]\n",
      " [1]]\n"
     ]
    }
   ],
   "source": [
    "np.disp(a[:,[8]])"
   ]
  },
  {
   "cell_type": "code",
   "execution_count": 21,
   "metadata": {},
   "outputs": [
    {
     "name": "stdout",
     "output_type": "stream",
     "text": [
      "此数组的维数： 3\n",
      "总个数: 60\n",
      "形状: (3, 4, 5)\n",
      "所占字节数: 480\n",
      "[[198.90983625 178.37422032 168.03564143 185.34301074 164.47171741]\n",
      " [153.81533621 179.28177013 160.22202069 187.26144299 166.50962129]\n",
      " [181.57261511 190.36822919 183.08138949 178.68434174 168.03781147]]\n",
      "此数组的维数： 2\n",
      "内存信息：   C_CONTIGUOUS : True\n",
      "  F_CONTIGUOUS : False\n",
      "  OWNDATA : True\n",
      "  WRITEABLE : True\n",
      "  ALIGNED : True\n",
      "  WRITEBACKIFCOPY : False\n",
      "  UPDATEIFCOPY : False\n"
     ]
    }
   ],
   "source": [
    "c=np.full(shape=(3,4,5),fill_value=3.14)\n",
    "st=\"此数组的维数： \"+str(c.ndim)+\"\\n总个数: \"+str(c.size)+\"\\n形状: \"+str(c.shape)+\"\\n所占字节数: \"+str(c.nbytes)\n",
    "np.disp(st)\n",
    "nd4=np.random.normal(loc=175,scale=10,size=(3,5))\n",
    "np.disp(nd4)\n",
    "st2=\"此数组的维数： \"+str(nd4.ndim)+\"\\n内存信息： \"+str(nd4.flags)\n",
    "print(st2)"
   ]
  },
  {
   "cell_type": "code",
   "execution_count": 22,
   "metadata": {},
   "outputs": [
    {
     "name": "stdout",
     "output_type": "stream",
     "text": [
      "[[ 0  1  2  3  4]\n",
      " [ 5  6  7  8  9]\n",
      " [10 11 12 13 14]\n",
      " [15 16 17 18 19]\n",
      " [20 21 22 23 24]]\n",
      "[[5 4 3 2 1]\n",
      " [5 4 3 2 1]\n",
      " [5 4 3 2 1]\n",
      " [5 4 3 2 1]\n",
      " [5 4 3 2 1]]\n",
      "数组a+数组b的结果为： \n",
      "[[ 5  5  5  5  5]\n",
      " [10 10 10 10 10]\n",
      " [15 15 15 15 15]\n",
      " [20 20 20 20 20]\n",
      " [25 25 25 25 25]]\n",
      "数组b中所有元素求平方： \n",
      "[[25 16  9  4  1]\n",
      " [25 16  9  4  1]\n",
      " [25 16  9  4  1]\n",
      " [25 16  9  4  1]\n",
      " [25 16  9  4  1]]\n",
      "数组a*数组b的结果为： \n",
      "[[  0   4   6   6   4]\n",
      " [ 25  24  21  16   9]\n",
      " [ 50  44  36  26  14]\n",
      " [ 75  64  51  36  19]\n",
      " [100  84  66  46  24]]\n",
      "数组a中所有元素之和：\n",
      "300\n",
      "数组a中所有元素按列求和： \n",
      "[50 55 60 65 70]\n",
      "数组a中所有元素累加求和： \n",
      "[  0   1   3   6  10  15  21  28  36  45  55  66  78  91 105 120 136 153\n",
      " 171 190 210 231 253 276 300]\n"
     ]
    }
   ],
   "source": [
    "a=np.arange(25)\n",
    "a=a.reshape((5,5))\n",
    "print(a)\n",
    "b=np.array([5,4,3,2,1]*5)\n",
    "b=b.reshape((5,5))\n",
    "np.disp(b)\n",
    "print(\"数组a+数组b的结果为： \")\n",
    "np.disp(np.add(a,b))\n",
    "print(\"数组b中所有元素求平方： \")\n",
    "np.disp(b**2)\n",
    "print(\"数组a*数组b的结果为： \")\n",
    "np.disp(np.multiply(a,b))\n",
    "print(\"数组a中所有元素之和：\")\n",
    "np.disp(a.sum())\n",
    "print(\"数组a中所有元素按列求和： \")\n",
    "np.disp(np.sum(a,axis=0))\n",
    "print(\"数组a中所有元素累加求和： \")\n",
    "np.disp(np.cumsum(a))"
   ]
  },
  {
   "cell_type": "code",
   "execution_count": null,
   "metadata": {},
   "outputs": [],
   "source": []
  }
 ],
 "metadata": {
  "kernelspec": {
   "display_name": "Python 3",
   "language": "python",
   "name": "python3"
  },
  "language_info": {
   "codemirror_mode": {
    "name": "ipython",
    "version": 3
   },
   "file_extension": ".py",
   "mimetype": "text/x-python",
   "name": "python",
   "nbconvert_exporter": "python",
   "pygments_lexer": "ipython3",
   "version": "3.7.4"
  }
 },
 "nbformat": 4,
 "nbformat_minor": 2
}
